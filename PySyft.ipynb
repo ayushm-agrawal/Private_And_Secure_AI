{
 "cells": [
  {
   "cell_type": "code",
   "execution_count": 1,
   "metadata": {},
   "outputs": [
    {
     "name": "stderr",
     "output_type": "stream",
     "text": [
      "Falling back to insecure randomness since the required custom op could not be found for the installed version of TensorFlow. Fix this by compiling custom ops. Missing file was 'c:\\users\\31892846\\appdata\\local\\continuum\\anaconda3\\envs\\pysyft\\lib\\site-packages\\tf_encrypted/operations/secure_random/secure_random_module_tf_1.15.2.so'\n"
     ]
    },
    {
     "name": "stdout",
     "output_type": "stream",
     "text": [
      "WARNING:tensorflow:From c:\\users\\31892846\\appdata\\local\\continuum\\anaconda3\\envs\\pysyft\\lib\\site-packages\\tf_encrypted\\session.py:24: The name tf.Session is deprecated. Please use tf.compat.v1.Session instead.\n",
      "\n"
     ]
    }
   ],
   "source": [
    "import torch as th\n",
    "import syft as sy"
   ]
  },
  {
   "cell_type": "markdown",
   "metadata": {},
   "source": [
    "## Basic Remote Execution in PySyft\n",
    "\n",
    "Federated Learning allows training of models in parallel. PySyft creates hooks on libraries like PyTorch on Tensorflow. This gives us the ability to use Torch tensors as **pointers**\n",
    "\n",
    "**PySyft** as a framework has a primitive type called **Virtual Worker**. Now, this is similar to PyTorch or Tensorflow having the primitive type of Tensor. This allows us to simulate the interface similar to a remote machine."
   ]
  },
  {
   "cell_type": "code",
   "execution_count": 3,
   "metadata": {},
   "outputs": [],
   "source": [
    "# create a hook to Torch\n",
    "hook = sy.TorchHook(th)\n",
    "\n",
    "# Create a pretend machine that is owned by a person called \"Jarvis\"\n",
    "jarvis = sy.VirtualWorker(hook, id=\"jarvis\")"
   ]
  },
  {
   "cell_type": "code",
   "execution_count": 5,
   "metadata": {},
   "outputs": [
    {
     "data": {
      "text/plain": [
       "{}"
      ]
     },
     "execution_count": 5,
     "metadata": {},
     "output_type": "execute_result"
    }
   ],
   "source": [
    "# Worker (Virtual Worker) in PySyft is just a collection of objects\n",
    "jarvis._objects"
   ]
  },
  {
   "cell_type": "code",
   "execution_count": 9,
   "metadata": {},
   "outputs": [
    {
     "name": "stdout",
     "output_type": "stream",
     "text": [
      "Worker object: {4063616149: tensor([1, 2, 3, 4, 5])}\n",
      "x Type: (Wrapper)>[PointerTensor | me:27973651598 -> jarvis:4063616149]\n"
     ]
    }
   ],
   "source": [
    "# Now let's create a tensor in Torch and send it back to our Worker Jarvis\n",
    "x = th.tensor([1,2,3,4,5])\n",
    "\n",
    "x = x.send(jarvis)\n",
    "\n",
    "print(\"Worker object: {}\".format(jarvis._objects))\n",
    "print(\"x Type: {}\".format(x))"
   ]
  },
  {
   "cell_type": "markdown",
   "metadata": {},
   "source": [
    "As you can note here that now our worker object **Jarvis** now has the tensor that we created using Torch. \n",
    "\n",
    "##### What was actually sent to our worker?\n",
    "\n",
    "If you notice the type of x above, you will see that it is a pointer to the remote object that we created. These pointers have all the features that a normal Torch tensor would but every time we try to use a function on x, it requests **Jarvis** to do that on our behalf.\n",
    "\n",
    "###### Feel like Tony Stark yet?\n",
    "\n",
    "So how does it work?\n",
    "\n",
    "- x has some metadata, namely, **location**, **id_at_location**, and **id**. \n",
    "- when we run a command on x, it sends a message to location and asks Jarvis to find the id at that location and run the command.\n",
    "\n",
    "Now our hook also has metadata like **local_worker** . Since we are calling the remote machine, we are the local_worker. In an essence, when we run a command, we as local worker, tell Jarvis to tell the owner to execute the command.}"
   ]
  },
  {
   "cell_type": "code",
   "execution_count": 12,
   "metadata": {},
   "outputs": [
    {
     "name": "stdout",
     "output_type": "stream",
     "text": [
      "Location: <VirtualWorker id:jarvis #objects:1>\n",
      "\n",
      "ID at location: 4063616149\n",
      "\n",
      "ID: 27973651598\n",
      "\n",
      "Owner: <VirtualWorker id:me #objects:0>\n",
      "\n",
      "NOTE: Since this is a pretend machine, we are defaulted as the owner\n",
      "\n",
      "Local Worker: <VirtualWorker id:me #objects:0>\n",
      "\n"
     ]
    }
   ],
   "source": [
    "print(\"Location: {}\\n\".format(x.location))\n",
    "print(\"ID at location: {}\\n\".format(x.id_at_location))\n",
    "print(\"ID: {}\\n\".format(x.id))\n",
    "print(\"Owner: {}\\n\".format(x.owner))\n",
    "print(\"NOTE: Since this is a pretend machine, we are defaulted as the owner\\n\")\n",
    "print(\"Local Worker: {}\\n\".format(hook.local_worker))"
   ]
  },
  {
   "cell_type": "markdown",
   "metadata": {},
   "source": [
    "#### We can also get the actual tensor back from our pointer and Free up Jarvis"
   ]
  },
  {
   "cell_type": "code",
   "execution_count": 13,
   "metadata": {},
   "outputs": [
    {
     "name": "stdout",
     "output_type": "stream",
     "text": [
      "x type: (Wrapper)>[PointerTensor | me:27973651598 -> jarvis:4063616149]\n",
      "\n",
      "Original tensor object: tensor([1, 2, 3, 4, 5])\n",
      "\n",
      "Our Jarvis Object: {}\n",
      "\n"
     ]
    }
   ],
   "source": [
    "print(\"x type: {}\\n\".format(x))\n",
    "\n",
    "x = x.get()\n",
    "\n",
    "print(\"Original tensor object: {}\\n\".format(x))\n",
    "\n",
    "print(\"Our Jarvis Object: {}\\n\".format(jarvis._objects))"
   ]
  },
  {
   "cell_type": "markdown",
   "metadata": {},
   "source": [
    "###### In the next notebook, let's try to use PySyft to train a simple linear model written in PyTorch."
   ]
  }
 ],
 "metadata": {
  "kernelspec": {
   "display_name": "Python 3",
   "language": "python",
   "name": "python3"
  },
  "language_info": {
   "codemirror_mode": {
    "name": "ipython",
    "version": 3
   },
   "file_extension": ".py",
   "mimetype": "text/x-python",
   "name": "python",
   "nbconvert_exporter": "python",
   "pygments_lexer": "ipython3",
   "version": "3.7.7"
  }
 },
 "nbformat": 4,
 "nbformat_minor": 4
}
