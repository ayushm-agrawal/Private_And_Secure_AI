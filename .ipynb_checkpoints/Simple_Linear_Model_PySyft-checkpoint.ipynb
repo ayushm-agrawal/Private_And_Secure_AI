{
 "cells": [
  {
   "cell_type": "markdown",
   "metadata": {},
   "source": [
    "For simplicity and keeping our focus on federated learning, we will use a very simple model for this example. "
   ]
  },
  {
   "cell_type": "code",
   "execution_count": 1,
   "metadata": {},
   "outputs": [
    {
     "name": "stderr",
     "output_type": "stream",
     "text": [
      "Falling back to insecure randomness since the required custom op could not be found for the installed version of TensorFlow. Fix this by compiling custom ops. Missing file was 'c:\\users\\31892846\\appdata\\local\\continuum\\anaconda3\\envs\\pysyft\\lib\\site-packages\\tf_encrypted/operations/secure_random/secure_random_module_tf_1.15.2.so'\n"
     ]
    },
    {
     "name": "stdout",
     "output_type": "stream",
     "text": [
      "WARNING:tensorflow:From c:\\users\\31892846\\appdata\\local\\continuum\\anaconda3\\envs\\pysyft\\lib\\site-packages\\tf_encrypted\\session.py:24: The name tf.Session is deprecated. Please use tf.compat.v1.Session instead.\n",
      "\n"
     ]
    }
   ],
   "source": [
    "import torch as th\n",
    "import syft as sy"
   ]
  },
  {
   "cell_type": "code",
   "execution_count": 2,
   "metadata": {},
   "outputs": [],
   "source": [
    "hook = sy.TorchHook(th)"
   ]
  },
  {
   "cell_type": "code",
   "execution_count": 3,
   "metadata": {},
   "outputs": [],
   "source": [
    "# create a new pretend Virtual Worker\n",
    "friday = sy.VirtualWorker(hook, id=\"friday\")"
   ]
  },
  {
   "cell_type": "code",
   "execution_count": 4,
   "metadata": {},
   "outputs": [],
   "source": [
    "# create inputs and labels for our custom dataset\n",
    "inputs = th.tensor([[1., 1], [0, 1, ], [1,0], [0,0]], requires_grad=True).send(friday)\n",
    "labels = th.tensor([[1.], [1], [0], [0]], requires_grad=True).send(friday)\n",
    "\n",
    "#create weights\n",
    "weights = th.tensor([[0.], [0.]], requires_grad=True).send(friday)"
   ]
  },
  {
   "cell_type": "markdown",
   "metadata": {},
   "source": [
    "Now we will run a simple training loop and calculate loss for our given custom dataset above"
   ]
  },
  {
   "cell_type": "code",
   "execution_count": 7,
   "metadata": {},
   "outputs": [
    {
     "name": "stdout",
     "output_type": "stream",
     "text": [
      "Epoch: 1... \tLoss: 0.00576462596654892\n",
      "Epoch: 2... \tLoss: 0.0036893526557832956\n",
      "Epoch: 3... \tLoss: 0.0023611863143742085\n",
      "Epoch: 4... \tLoss: 0.001511158305220306\n",
      "Epoch: 5... \tLoss: 0.0009671423467807472\n",
      "Epoch: 6... \tLoss: 0.0006189706618897617\n",
      "Epoch: 7... \tLoss: 0.00039614125853404403\n",
      "Epoch: 8... \tLoss: 0.0002535301318857819\n",
      "Epoch: 9... \tLoss: 0.00016225906438194215\n",
      "Epoch: 10... \tLoss: 0.00010384614870417863\n"
     ]
    }
   ],
   "source": [
    "for i in range(10):\n",
    "    pred = inputs.mm(weights)\n",
    "    \n",
    "    # calculated the MSE Loss\n",
    "    loss = ((pred-labels)**2).sum()\n",
    "    \n",
    "    loss.backward()\n",
    "    \n",
    "    # zero out the gradients to stop them from accumulating\n",
    "    weights.data.sub_(weights.grad * 0.1)\n",
    "    weights.grad *= 0\n",
    "    \n",
    "    print(\"Epoch: {}... \\tLoss: {}\".format(i+1, loss.get().data))"
   ]
  },
  {
   "cell_type": "markdown",
   "metadata": {},
   "source": [
    "### What do we observe here?\n",
    "It is very straighforward in PySyft to run models on a remote system. As long as you know how to use PyTorch, \"friday\" will handle most of the federated learning work on your part.\n",
    "\n",
    "###### Now, there are still things that are challenging while executing models on a remote machine...\n",
    "Wait, you thought that you can easily mess with the Privacy Timeline? \n",
    "\n",
    "If you have watched **Dr. Strange**, then you know that \"THE BILL COMES DUE!\"\n",
    "\n",
    "But, there are ways to handle these issues. Don't worry, we won't summon the dark dimension. ✨"
   ]
  },
  {
   "cell_type": "code",
   "execution_count": null,
   "metadata": {},
   "outputs": [],
   "source": []
  },
  {
   "cell_type": "code",
   "execution_count": null,
   "metadata": {},
   "outputs": [],
   "source": []
  }
 ],
 "metadata": {
  "kernelspec": {
   "display_name": "Python 3",
   "language": "python",
   "name": "python3"
  },
  "language_info": {
   "codemirror_mode": {
    "name": "ipython",
    "version": 3
   },
   "file_extension": ".py",
   "mimetype": "text/x-python",
   "name": "python",
   "nbconvert_exporter": "python",
   "pygments_lexer": "ipython3",
   "version": "3.7.7"
  }
 },
 "nbformat": 4,
 "nbformat_minor": 4
}
